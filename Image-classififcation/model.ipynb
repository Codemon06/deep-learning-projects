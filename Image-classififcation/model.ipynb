{
 "cells": [
  {
   "cell_type": "code",
   "execution_count": 1,
   "metadata": {},
   "outputs": [],
   "source": [
    "from pickletools import optimize\n",
    "import cv2 as cv\n",
    "import numpy as np\n",
    "import matplotlib.pyplot as plt\n",
    "from tensorflow.keras import datasets, layers, models"
   ]
  },
  {
   "cell_type": "code",
   "execution_count": 2,
   "metadata": {},
   "outputs": [],
   "source": [
    "(training_images, training_labels), (testing_images, testing_labels) = datasets.cifar10.load_data()"
   ]
  },
  {
   "cell_type": "code",
   "execution_count": 3,
   "metadata": {},
   "outputs": [],
   "source": [
    "training_images, testing_images = training_images / 255.0, testing_images / 255.0\n"
   ]
  },
  {
   "cell_type": "code",
   "execution_count": 4,
   "metadata": {},
   "outputs": [],
   "source": [
    "class_names = ['airplane', 'automobile', 'bird', 'cat', 'deer', 'dog', 'frog', 'horse', 'ship', 'truck']\n"
   ]
  },
  {
   "cell_type": "code",
   "execution_count": 5,
   "metadata": {},
   "outputs": [],
   "source": [
    "model = models.Sequential()\n",
    "model.add(layers.Conv2D(32, (3, 3), activation='relu', input_shape=(32, 32, 3)))\n",
    "model.add(layers.MaxPooling2D((2, 2)))\n",
    "model.add(layers.Conv2D(64, (3, 3), activation='relu'))\n",
    "model.add(layers.MaxPooling2D((2, 2)))\n",
    "model.add(layers.Conv2D(64, (3, 3), activation='relu'))\n",
    "model.add(layers.Flatten())\n",
    "model.add(layers.Dense(64, activation='relu'))\n",
    "model.add(layers.Dense(10, activation='softmax'))\n"
   ]
  },
  {
   "cell_type": "code",
   "execution_count": 6,
   "metadata": {},
   "outputs": [
    {
     "name": "stdout",
     "output_type": "stream",
     "text": [
      "Epoch 1/15\n",
      "1563/1563 [==============================] - 39s 24ms/step - loss: 1.5204 - accuracy: 0.4458 - val_loss: 1.2582 - val_accuracy: 0.5510\n",
      "Epoch 2/15\n",
      "1563/1563 [==============================] - 36s 23ms/step - loss: 1.1414 - accuracy: 0.5968 - val_loss: 1.0597 - val_accuracy: 0.6197\n",
      "Epoch 3/15\n",
      "1563/1563 [==============================] - 37s 24ms/step - loss: 0.9856 - accuracy: 0.6541 - val_loss: 0.9682 - val_accuracy: 0.6605\n",
      "Epoch 4/15\n",
      "1563/1563 [==============================] - 35s 22ms/step - loss: 0.8913 - accuracy: 0.6875 - val_loss: 0.9047 - val_accuracy: 0.6790\n",
      "Epoch 5/15\n",
      "1563/1563 [==============================] - 36s 23ms/step - loss: 0.8250 - accuracy: 0.7123 - val_loss: 0.9830 - val_accuracy: 0.6611\n",
      "Epoch 6/15\n",
      "1563/1563 [==============================] - 33s 21ms/step - loss: 0.7619 - accuracy: 0.7330 - val_loss: 0.8919 - val_accuracy: 0.6902\n",
      "Epoch 7/15\n",
      "1563/1563 [==============================] - 35s 22ms/step - loss: 0.7202 - accuracy: 0.7483 - val_loss: 0.8863 - val_accuracy: 0.6966\n",
      "Epoch 8/15\n",
      "1563/1563 [==============================] - 36s 23ms/step - loss: 0.6783 - accuracy: 0.7624 - val_loss: 0.8724 - val_accuracy: 0.7053\n",
      "Epoch 9/15\n",
      "1563/1563 [==============================] - 36s 23ms/step - loss: 0.6401 - accuracy: 0.7743 - val_loss: 0.8566 - val_accuracy: 0.7075\n",
      "Epoch 10/15\n",
      "1563/1563 [==============================] - 35s 23ms/step - loss: 0.6038 - accuracy: 0.7867 - val_loss: 0.8836 - val_accuracy: 0.7017\n",
      "Epoch 11/15\n",
      "1563/1563 [==============================] - 34s 22ms/step - loss: 0.5678 - accuracy: 0.7993 - val_loss: 0.9021 - val_accuracy: 0.7079\n",
      "Epoch 12/15\n",
      "1563/1563 [==============================] - 33s 21ms/step - loss: 0.5424 - accuracy: 0.8079 - val_loss: 0.8969 - val_accuracy: 0.7060\n",
      "Epoch 13/15\n",
      "1563/1563 [==============================] - 33s 21ms/step - loss: 0.5048 - accuracy: 0.8219 - val_loss: 0.9788 - val_accuracy: 0.6982\n",
      "Epoch 14/15\n",
      "1563/1563 [==============================] - 38s 24ms/step - loss: 0.4822 - accuracy: 0.8283 - val_loss: 0.9371 - val_accuracy: 0.7040\n",
      "Epoch 15/15\n",
      "1563/1563 [==============================] - 37s 24ms/step - loss: 0.4489 - accuracy: 0.8397 - val_loss: 0.9639 - val_accuracy: 0.7129\n"
     ]
    },
    {
     "data": {
      "text/plain": [
       "<keras.callbacks.History at 0x1b2a7089300>"
      ]
     },
     "execution_count": 6,
     "metadata": {},
     "output_type": "execute_result"
    }
   ],
   "source": [
    "model.compile(optimizer='adam', loss='sparse_categorical_crossentropy', metrics=['accuracy'])\n",
    "\n",
    "model.fit(training_images, training_labels, epochs=15, validation_data=(testing_images, testing_labels))"
   ]
  },
  {
   "cell_type": "code",
   "execution_count": 7,
   "metadata": {},
   "outputs": [
    {
     "name": "stdout",
     "output_type": "stream",
     "text": [
      "313/313 [==============================] - 3s 9ms/step - loss: 0.9639 - accuracy: 0.7129\n",
      "Loss: 0.9638615250587463\n",
      "Accuracy: 0.7128999829292297\n"
     ]
    }
   ],
   "source": [
    "loss, accuracy = model.evaluate(testing_images, testing_labels)\n",
    "print(f\"Loss: {loss}\")\n",
    "print(f\"Accuracy: {accuracy}\")"
   ]
  },
  {
   "cell_type": "code",
   "execution_count": 8,
   "metadata": {},
   "outputs": [
    {
     "name": "stdout",
     "output_type": "stream",
     "text": [
      "INFO:tensorflow:Assets written to: image_classifier71.model\\assets\n"
     ]
    }
   ],
   "source": [
    "model.save('image_classifier71.model')"
   ]
  },
  {
   "cell_type": "code",
   "execution_count": null,
   "metadata": {},
   "outputs": [],
   "source": []
  },
  {
   "cell_type": "code",
   "execution_count": null,
   "metadata": {},
   "outputs": [],
   "source": []
  }
 ],
 "metadata": {
  "kernelspec": {
   "display_name": "Python 3 (ipykernel)",
   "language": "python",
   "name": "python3"
  },
  "language_info": {
   "codemirror_mode": {
    "name": "ipython",
    "version": 3
   },
   "file_extension": ".py",
   "mimetype": "text/x-python",
   "name": "python",
   "nbconvert_exporter": "python",
   "pygments_lexer": "ipython3",
   "version": "3.10.4"
  },
  "vscode": {
   "interpreter": {
    "hash": "26de051ba29f2982a8de78e945f0abaf191376122a1563185a90213a26c5da77"
   }
  }
 },
 "nbformat": 4,
 "nbformat_minor": 2
}
