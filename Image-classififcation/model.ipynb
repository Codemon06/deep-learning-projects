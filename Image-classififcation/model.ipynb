{
 "cells": [
  {
   "cell_type": "code",
   "execution_count": 1,
   "metadata": {},
   "outputs": [],
   "source": [
    "from pickletools import optimize\n",
    "import cv2 as cv\n",
    "import numpy as np\n",
    "import matplotlib.pyplot as plt\n",
    "from tensorflow.keras import datasets, layers, models"
   ]
  },
  {
   "cell_type": "code",
   "execution_count": 2,
   "metadata": {},
   "outputs": [],
   "source": [
    "(training_images, training_labels), (testing_images, testing_labels) = datasets.cifar10.load_data()"
   ]
  },
  {
   "cell_type": "code",
   "execution_count": 3,
   "metadata": {},
   "outputs": [],
   "source": [
    "training_images, testing_images = training_images / 255.0, testing_images / 255.0\n"
   ]
  },
  {
   "cell_type": "code",
   "execution_count": 4,
   "metadata": {},
   "outputs": [],
   "source": [
    "class_names = ['airplane', 'automobile', 'bird', 'cat', 'deer', 'dog', 'frog', 'horse', 'ship', 'truck']\n"
   ]
  },
  {
   "cell_type": "code",
   "execution_count": 5,
   "metadata": {},
   "outputs": [],
   "source": [
    "model = models.Sequential()\n",
    "model.add(layers.Conv2D(32, (3, 3), activation='relu', input_shape=(32, 32, 3)))\n",
    "model.add(layers.MaxPooling2D((2, 2)))\n",
    "model.add(layers.Conv2D(64, (3, 3), activation='relu'))\n",
    "model.add(layers.MaxPooling2D((2, 2)))\n",
    "model.add(layers.Conv2D(64, (3, 3), activation='relu'))\n",
    "model.add(layers.Flatten())\n",
    "model.add(layers.Dense(64, activation='relu'))\n",
    "model.add(layers.Dense(10, activation='softmax'))\n"
   ]
  },
  {
   "cell_type": "code",
   "execution_count": 6,
   "metadata": {},
   "outputs": [
    {
     "name": "stdout",
     "output_type": "stream",
     "text": [
      "Epoch 1/12\n",
      "1563/1563 [==============================] - 28s 18ms/step - loss: 1.5424 - accuracy: 0.4388 - val_loss: 1.2615 - val_accuracy: 0.5459\n",
      "Epoch 2/12\n",
      "1563/1563 [==============================] - 26s 17ms/step - loss: 1.1875 - accuracy: 0.5796 - val_loss: 1.1066 - val_accuracy: 0.6091\n",
      "Epoch 3/12\n",
      "1563/1563 [==============================] - 26s 17ms/step - loss: 1.0297 - accuracy: 0.6390 - val_loss: 0.9963 - val_accuracy: 0.6517\n",
      "Epoch 4/12\n",
      "1563/1563 [==============================] - 26s 17ms/step - loss: 0.9398 - accuracy: 0.6722 - val_loss: 0.9481 - val_accuracy: 0.6680\n",
      "Epoch 5/12\n",
      "1563/1563 [==============================] - 26s 17ms/step - loss: 0.8694 - accuracy: 0.6977 - val_loss: 1.0095 - val_accuracy: 0.6577\n",
      "Epoch 6/12\n",
      "1563/1563 [==============================] - 26s 17ms/step - loss: 0.8125 - accuracy: 0.7147 - val_loss: 0.8910 - val_accuracy: 0.6916\n",
      "Epoch 7/12\n",
      "1563/1563 [==============================] - 26s 17ms/step - loss: 0.7698 - accuracy: 0.7328 - val_loss: 0.9304 - val_accuracy: 0.6830\n",
      "Epoch 8/12\n",
      "1563/1563 [==============================] - 26s 17ms/step - loss: 0.7282 - accuracy: 0.7442 - val_loss: 0.8909 - val_accuracy: 0.6942\n",
      "Epoch 9/12\n",
      "1563/1563 [==============================] - 27s 17ms/step - loss: 0.6882 - accuracy: 0.7573 - val_loss: 0.8763 - val_accuracy: 0.7046\n",
      "Epoch 10/12\n",
      "1563/1563 [==============================] - 29s 18ms/step - loss: 0.6557 - accuracy: 0.7694 - val_loss: 0.9154 - val_accuracy: 0.6947\n",
      "Epoch 11/12\n",
      "1563/1563 [==============================] - 27s 17ms/step - loss: 0.6199 - accuracy: 0.7834 - val_loss: 0.8605 - val_accuracy: 0.7160\n",
      "Epoch 12/12\n",
      "1563/1563 [==============================] - 27s 17ms/step - loss: 0.5878 - accuracy: 0.7921 - val_loss: 0.9060 - val_accuracy: 0.7056\n"
     ]
    },
    {
     "data": {
      "text/plain": [
       "<keras.callbacks.History at 0x16a189391b0>"
      ]
     },
     "execution_count": 6,
     "metadata": {},
     "output_type": "execute_result"
    }
   ],
   "source": [
    "model.compile(optimizer='adam', loss='sparse_categorical_crossentropy', metrics=['accuracy'])\n",
    "\n",
    "model.fit(training_images, training_labels, epochs=12, validation_data=(testing_images, testing_labels))"
   ]
  },
  {
   "cell_type": "code",
   "execution_count": 7,
   "metadata": {},
   "outputs": [
    {
     "name": "stdout",
     "output_type": "stream",
     "text": [
      "313/313 [==============================] - 2s 7ms/step - loss: 0.9060 - accuracy: 0.7056\n",
      "Loss: 0.90597003698349\n",
      "Accuracy: 0.7056000232696533\n"
     ]
    }
   ],
   "source": [
    "loss, accuracy = model.evaluate(testing_images, testing_labels)\n",
    "print(f\"Loss: {loss}\")\n",
    "print(f\"Accuracy: {accuracy}\")"
   ]
  },
  {
   "cell_type": "code",
   "execution_count": 8,
   "metadata": {},
   "outputs": [
    {
     "name": "stdout",
     "output_type": "stream",
     "text": [
      "INFO:tensorflow:Assets written to: image_classifier70.model\\assets\n"
     ]
    }
   ],
   "source": [
    "model.save('image_classifier70.model')"
   ]
  },
  {
   "cell_type": "code",
   "execution_count": null,
   "metadata": {},
   "outputs": [],
   "source": []
  },
  {
   "cell_type": "code",
   "execution_count": null,
   "metadata": {},
   "outputs": [],
   "source": []
  }
 ],
 "metadata": {
  "kernelspec": {
   "display_name": "Python 3 (ipykernel)",
   "language": "python",
   "name": "python3"
  },
  "language_info": {
   "codemirror_mode": {
    "name": "ipython",
    "version": 3
   },
   "file_extension": ".py",
   "mimetype": "text/x-python",
   "name": "python",
   "nbconvert_exporter": "python",
   "pygments_lexer": "ipython3",
   "version": "3.10.4"
  },
  "vscode": {
   "interpreter": {
    "hash": "26de051ba29f2982a8de78e945f0abaf191376122a1563185a90213a26c5da77"
   }
  }
 },
 "nbformat": 4,
 "nbformat_minor": 2
}
