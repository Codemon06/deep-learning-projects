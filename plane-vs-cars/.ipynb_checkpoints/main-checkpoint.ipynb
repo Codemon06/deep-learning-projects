{
 "cells": [
  {
   "cell_type": "code",
   "execution_count": 2,
   "metadata": {},
   "outputs": [
    {
     "name": "stdout",
     "output_type": "stream",
     "text": [
      "Predicted Class (0 - Cars , 1- Planes):  0.88615406\n",
      "[[[[0.64705882 0.75294118 0.85882353]\n",
      "   [0.62745098 0.73333333 0.83921569]\n",
      "   [0.61960784 0.7254902  0.83137255]\n",
      "   ...\n",
      "   [0.66666667 0.78823529 0.89803922]\n",
      "   [0.6745098  0.79607843 0.90588235]\n",
      "   [0.68235294 0.80392157 0.91372549]]\n",
      "\n",
      "  [[0.64313725 0.74901961 0.85490196]\n",
      "   [0.62352941 0.72941176 0.83529412]\n",
      "   [0.61568627 0.72156863 0.82745098]\n",
      "   ...\n",
      "   [0.66666667 0.78823529 0.89803922]\n",
      "   [0.67058824 0.79215686 0.90196078]\n",
      "   [0.67843137 0.8        0.90980392]]\n",
      "\n",
      "  [[0.63921569 0.74509804 0.85098039]\n",
      "   [0.61960784 0.7254902  0.83137255]\n",
      "   [0.60784314 0.71372549 0.81960784]\n",
      "   ...\n",
      "   [0.65882353 0.78039216 0.89019608]\n",
      "   [0.66666667 0.78823529 0.89803922]\n",
      "   [0.6745098  0.79607843 0.90588235]]\n",
      "\n",
      "  ...\n",
      "\n",
      "  [[0.27058824 0.27843137 0.2745098 ]\n",
      "   [0.27058824 0.27843137 0.2745098 ]\n",
      "   [0.2745098  0.28235294 0.27843137]\n",
      "   ...\n",
      "   [0.2745098  0.27843137 0.28627451]\n",
      "   [0.27843137 0.28235294 0.29019608]\n",
      "   [0.29803922 0.30196078 0.30980392]]\n",
      "\n",
      "  [[0.2745098  0.28235294 0.27843137]\n",
      "   [0.27843137 0.28627451 0.28235294]\n",
      "   [0.27843137 0.28627451 0.28235294]\n",
      "   ...\n",
      "   [0.2745098  0.2745098  0.30588235]\n",
      "   [0.28235294 0.28235294 0.31372549]\n",
      "   [0.30196078 0.30196078 0.33333333]]\n",
      "\n",
      "  [[0.2745098  0.28235294 0.27843137]\n",
      "   [0.27058824 0.27843137 0.2745098 ]\n",
      "   [0.27058824 0.27843137 0.2745098 ]\n",
      "   ...\n",
      "   [0.27843137 0.27843137 0.31764706]\n",
      "   [0.28627451 0.28627451 0.3254902 ]\n",
      "   [0.30588235 0.30588235 0.34509804]]]]\n"
     ]
    }
   ],
   "source": [
    "from keras.models import load_model\n",
    "from keras.preprocessing.image import load_img\n",
    "from keras.preprocessing.image import img_to_array\n",
    "from keras.applications.vgg16 import preprocess_input\n",
    "from keras.applications.vgg16 import decode_predictions\n",
    "from keras.applications.vgg16 import VGG16\n",
    "import numpy as np\n",
    "\n",
    "from keras.models import load_model\n",
    "\n",
    "model = load_model('model_saved.h5')\n",
    "\n",
    "image = load_img('v_data/test/planes/5.jpg', target_size=(224, 224))\n",
    "img = np.array(image)\n",
    "img = img / 255.0\n",
    "img = img.reshape(1,224,224,3)\n",
    "label = model.predict(img)\n",
    "print(\"Predicted Class (0 - Cars , 1- Planes): \", label[0][0])"
   ]
  },
  {
   "cell_type": "code",
   "execution_count": null,
   "metadata": {},
   "outputs": [],
   "source": []
  }
 ],
 "metadata": {
  "kernelspec": {
   "display_name": "Python 3 (ipykernel)",
   "language": "python",
   "name": "python3"
  },
  "language_info": {
   "codemirror_mode": {
    "name": "ipython",
    "version": 3
   },
   "file_extension": ".py",
   "mimetype": "text/x-python",
   "name": "python",
   "nbconvert_exporter": "python",
   "pygments_lexer": "ipython3",
   "version": "3.10.4"
  },
  "vscode": {
   "interpreter": {
    "hash": "26de051ba29f2982a8de78e945f0abaf191376122a1563185a90213a26c5da77"
   }
  }
 },
 "nbformat": 4,
 "nbformat_minor": 2
}
